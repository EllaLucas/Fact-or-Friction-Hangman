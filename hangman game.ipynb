{
 "cells": [
  {
   "cell_type": "markdown",
   "metadata": {},
   "source": [
    "# Fact or Friction: Hangman"
   ]
  },
  {
   "cell_type": "markdown",
   "metadata": {},
   "source": [
    "For my project, I created an interactive game of Hangman with an interesting twist - instead of guessing a generic word, I modified the game so that an obscure fact will be revealed. \n",
    "\n",
    "The program tracks remaining lives numerically rather than visually.\n",
    "\n",
    "You have 5 chances to correctly guess the fact or it's game over. Total lives granted is a small number to normalize the difficulty compared to traditional Hangman. There exists larger variation in letters represented in a phrase compared to a single word. "
   ]
  },
  {
   "cell_type": "markdown",
   "metadata": {},
   "source": [
    "## Code\n",
    "\n",
    "I created this version of Hangman by envisioning a pseudocode for the project's premise. From there, I realized that the task can be effectively accomplised my initializing a collection of specific functions, then bringing them together to execute the game. \n",
    "\n",
    "For details, please refer to my_module/functions.py \n",
    "\n",
    "Additionally, this project is avaliable on GitHub.\n",
    "    Account Name: \n",
    "    Link to Project: "
   ]
  },
  {
   "cell_type": "code",
   "execution_count": 1,
   "metadata": {},
   "outputs": [],
   "source": [
    "from my_module.functions import grab_fact, play_hangman, get_guess, print_fact_with_blanks, process_guess, whole_fact_guess, single_letter_guess, all_letters_guessed "
   ]
  },
  {
   "cell_type": "code",
   "execution_count": null,
   "metadata": {},
   "outputs": [
    {
     "name": "stdout",
     "output_type": "stream",
     "text": [
      "----- ---------- ------- ------- -- ------- ---------- ------- --- ----------- --------\n",
      "Lives Remaining: 5\n"
     ]
    }
   ],
   "source": [
    "play_hangman()"
   ]
  }
 ],
 "metadata": {
  "kernelspec": {
   "display_name": "Python 3",
   "language": "python",
   "name": "python3"
  }
 },
 "nbformat": 4,
 "nbformat_minor": 2
}
